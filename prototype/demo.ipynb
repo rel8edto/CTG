{
 "cells": [
  {
   "cell_type": "code",
   "execution_count": 1,
   "metadata": {},
   "outputs": [],
   "source": [
    "from extras.helper_function import unzip_data"
   ]
  },
  {
   "cell_type": "code",
   "execution_count": 2,
   "metadata": {},
   "outputs": [],
   "source": [
    "import zipfile as zipfile\n",
    "\n",
    "\n",
    "def unzip_data(filename):\n",
    "    \"\"\"\n",
    "    Unzips filename into the current working directory.\n",
    "    Args:\n",
    "    filename (str): a filepath to a target zip folder to be unzipped.\n",
    "    \"\"\"\n",
    "    zip_ref = zipfile.ZipFile(filename, \"r\")\n",
    "    zip_ref.extractall()\n",
    "    zip_ref.close()\n"
   ]
  },
  {
   "cell_type": "code",
   "execution_count": 3,
   "metadata": {},
   "outputs": [],
   "source": [
    "unzip_data('/Users/nathanieljacques/Rel8ed.to/CTG/prototype/files_1644335925.zip')\n",
    "\n"
   ]
  },
  {
   "cell_type": "code",
   "execution_count": null,
   "metadata": {},
   "outputs": [],
   "source": []
  }
 ],
 "metadata": {
  "interpreter": {
   "hash": "aee8b7b246df8f9039afb4144a1f6fd8d2ca17a180786b69acc140d282b71a49"
  },
  "kernelspec": {
   "display_name": "Python 3.9.10 64-bit",
   "name": "python3"
  },
  "language_info": {
   "codemirror_mode": {
    "name": "ipython",
    "version": 3
   },
   "file_extension": ".py",
   "mimetype": "text/x-python",
   "name": "python",
   "nbconvert_exporter": "python",
   "pygments_lexer": "ipython3",
   "version": "3.9.10"
  },
  "orig_nbformat": 4
 },
 "nbformat": 4,
 "nbformat_minor": 2
}
