{
 "cells": [
  {
   "cell_type": "code",
   "execution_count": 1,
   "metadata": {},
   "outputs": [
    {
     "name": "stdout",
     "output_type": "stream",
     "text": [
      "There are 3 directories and 0 images in 'data'.\n",
      "There are 0 directories and 521 images in 'data/reject'.\n",
      "There are 0 directories and 5 images in 'data/csv_files'.\n",
      "There are 5 directories and 0 images in 'data/img'.\n",
      "There are 0 directories and 162 images in 'data/img/Medical and Diagnostic Laboratories'.\n",
      "There are 0 directories and 233 images in 'data/img/Outpatient Care Centers'.\n",
      "There are 0 directories and 94 images in 'data/img/Specialized Freight Trucking'.\n",
      "There are 0 directories and 1714 images in 'data/img/Religious Organizations'.\n",
      "There are 0 directories and 259 images in 'data/img/General Freight Trucking'.\n"
     ]
    }
   ],
   "source": [
    "import os \n",
    "for dirpath, dirnames, filenames in os.walk(\"data\"):\n",
    "    print(f\"There are {len(dirnames)} directories and {len(filenames)} images in '{dirpath}'.\")\n"
   ]
  },
  {
   "cell_type": "code",
   "execution_count": null,
   "metadata": {},
   "outputs": [],
   "source": []
  }
 ],
 "metadata": {
  "interpreter": {
   "hash": "aee8b7b246df8f9039afb4144a1f6fd8d2ca17a180786b69acc140d282b71a49"
  },
  "kernelspec": {
   "display_name": "Python 3.9.10 64-bit",
   "name": "python3"
  },
  "language_info": {
   "codemirror_mode": {
    "name": "ipython",
    "version": 3
   },
   "file_extension": ".py",
   "mimetype": "text/x-python",
   "name": "python",
   "nbconvert_exporter": "python",
   "pygments_lexer": "ipython3",
   "version": "3.9.10"
  },
  "orig_nbformat": 4
 },
 "nbformat": 4,
 "nbformat_minor": 2
}
